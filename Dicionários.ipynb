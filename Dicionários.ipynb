{
  "nbformat": 4,
  "nbformat_minor": 0,
  "metadata": {
    "colab": {
      "name": "Dicionários.ipynb",
      "provenance": [],
      "collapsed_sections": [],
      "authorship_tag": "ABX9TyNK3u4nZFAbd+rcSgtkNogH",
      "include_colab_link": true
    },
    "kernelspec": {
      "name": "python3",
      "display_name": "Python 3"
    }
  },
  "cells": [
    {
      "cell_type": "markdown",
      "metadata": {
        "id": "view-in-github",
        "colab_type": "text"
      },
      "source": [
        "<a href=\"https://colab.research.google.com/github/renatagsr/aprendizado_python/blob/master/Dicion%C3%A1rios.ipynb\" target=\"_parent\"><img src=\"https://colab.research.google.com/assets/colab-badge.svg\" alt=\"Open In Colab\"/></a>"
      ]
    },
    {
      "cell_type": "markdown",
      "metadata": {
        "id": "RYZqQnMPs0AB"
      },
      "source": [
        "# Dicionários\n",
        "\n",
        "<center><img width = \"20%\" src = \"https://files.realpython.com/media/t.b3e3d8f2d100.png\"></center>\n",
        "\n",
        "Os dicionários são bem semelhantes as listas, mas eles possuem uma chave e um valor, são uma coleção de pares de valores-chave. Eles têm que necessariamente ter uma correspondência entre as chaves e valores.\n",
        "\n",
        "Os dicionários, assim como as listas, são mutáveis, dinâmico, podem ser aninhados (um dicionário pode conter outro dicionário dentro dele). A maior diferença entre os dicionários em relação as listas é que eles são acessados através das suas chaves e as listas são acessadas através do seu índice. \n",
        "\n",
        "No python os dicionários são construidos através de chaves ({ }). Cada par é separado por vírgula\n",
        "\n",
        "Um exemplo simples e útil para utilização deles é fazer um conjunto de contatos, onde as chaves serão os nomes e os valores serão os respectivos números telefônicos.\n",
        "\n",
        "contatos = {'Yan': '1234-5678', 'Pedro': '9999-9999', 'Ana': '8765-4321',\n",
        "  'Marina': '8877-7788'}\n",
        "\n",
        "---"
      ]
    },
    {
      "cell_type": "code",
      "metadata": {
        "id": "Tm4RqSaBsG-B"
      },
      "source": [
        "meu_dicionario = {}"
      ],
      "execution_count": null,
      "outputs": []
    },
    {
      "cell_type": "code",
      "metadata": {
        "id": "tyxY6Cw5TnIn",
        "outputId": "b474aeef-5215-40ae-c45d-3f995190f9a9",
        "colab": {
          "base_uri": "https://localhost:8080/",
          "height": 33
        }
      },
      "source": [
        "type(meu_dicionario)"
      ],
      "execution_count": null,
      "outputs": [
        {
          "output_type": "execute_result",
          "data": {
            "text/plain": [
              "dict"
            ]
          },
          "metadata": {
            "tags": []
          },
          "execution_count": 2
        }
      ]
    },
    {
      "cell_type": "code",
      "metadata": {
        "id": "rMa0Mdu_TpFd"
      },
      "source": [
        "exemplo = {'João': 20, \n",
        "           'Maria': 22, \n",
        "           'Ana': 18}"
      ],
      "execution_count": null,
      "outputs": []
    },
    {
      "cell_type": "code",
      "metadata": {
        "id": "gYmiaaOiT4GB",
        "outputId": "715cda47-b5f3-4ed2-c5e4-f4bb791861e6",
        "colab": {
          "base_uri": "https://localhost:8080/",
          "height": 33
        }
      },
      "source": [
        "exemplo"
      ],
      "execution_count": null,
      "outputs": [
        {
          "output_type": "execute_result",
          "data": {
            "text/plain": [
              "{'Ana': 18, 'João': 20, 'Maria': 22}"
            ]
          },
          "metadata": {
            "tags": []
          },
          "execution_count": 5
        }
      ]
    },
    {
      "cell_type": "markdown",
      "metadata": {
        "id": "oUiRy0wzUDbY"
      },
      "source": [
        "Conforme explicado acima os dicionários são compostos por chaves (*keys*) e valores (*values*). Para poder acessar as chaves e os valores é feito da seguinte maneira:"
      ]
    },
    {
      "cell_type": "code",
      "metadata": {
        "id": "xdHBizGgT6HK",
        "outputId": "344d6f32-3173-4d94-98ed-6690297df56b",
        "colab": {
          "base_uri": "https://localhost:8080/",
          "height": 33
        }
      },
      "source": [
        "exemplo.keys()"
      ],
      "execution_count": null,
      "outputs": [
        {
          "output_type": "execute_result",
          "data": {
            "text/plain": [
              "dict_keys(['João', 'Maria', 'Ana'])"
            ]
          },
          "metadata": {
            "tags": []
          },
          "execution_count": 6
        }
      ]
    },
    {
      "cell_type": "code",
      "metadata": {
        "id": "-FaWdMF3UXEw",
        "outputId": "66476b19-dab8-4fe4-e832-5048d9e0c470",
        "colab": {
          "base_uri": "https://localhost:8080/",
          "height": 33
        }
      },
      "source": [
        "exemplo.values()"
      ],
      "execution_count": null,
      "outputs": [
        {
          "output_type": "execute_result",
          "data": {
            "text/plain": [
              "dict_values([20, 22, 18])"
            ]
          },
          "metadata": {
            "tags": []
          },
          "execution_count": 7
        }
      ]
    },
    {
      "cell_type": "markdown",
      "metadata": {
        "id": "EnDi3fYxUYEN"
      },
      "source": [
        "Dessa forma percebe-se que as chaves são os primeiros elementos do dicionário e os valores  o segundo elemento."
      ]
    },
    {
      "cell_type": "code",
      "metadata": {
        "id": "VvpoKCLGUSeS",
        "outputId": "078cbf04-ed59-4be4-ca12-ed8bd3c6ec8b",
        "colab": {
          "base_uri": "https://localhost:8080/",
          "height": 33
        }
      },
      "source": [
        "exemplo['João']"
      ],
      "execution_count": null,
      "outputs": [
        {
          "output_type": "execute_result",
          "data": {
            "text/plain": [
              "20"
            ]
          },
          "metadata": {
            "tags": []
          },
          "execution_count": 8
        }
      ]
    },
    {
      "cell_type": "markdown",
      "metadata": {
        "id": "UOWdCTYoVDNi"
      },
      "source": [
        "## Adicionando novos itens\n",
        "\n",
        "Adicionar um elemento aos dicionários é simples. É como se tivesse selecionando algo que não existe e atribuindo um valor a ela. Forma genêrica para adição:\n",
        "\n",
        "nome_do_dicionario['chave_que_quer_adicionar'] = valor_correspondente_a_chave."
      ]
    },
    {
      "cell_type": "code",
      "metadata": {
        "id": "BIAlw7ShVAvt"
      },
      "source": [
        "exemplo['José'] = 6"
      ],
      "execution_count": null,
      "outputs": []
    },
    {
      "cell_type": "code",
      "metadata": {
        "id": "eok_I5ovVP13",
        "outputId": "2987556b-3126-4cca-b10a-4459e7596ece",
        "colab": {
          "base_uri": "https://localhost:8080/",
          "height": 33
        }
      },
      "source": [
        "print(exemplo)"
      ],
      "execution_count": null,
      "outputs": [
        {
          "output_type": "stream",
          "text": [
            "{'João': 20, 'Maria': 22, 'Ana': 18, 'José': 6}\n"
          ],
          "name": "stdout"
        }
      ]
    },
    {
      "cell_type": "code",
      "metadata": {
        "id": "htd9NBrxVSGp",
        "outputId": "0c622a79-93e3-4e9a-a068-a87061e44c6c",
        "colab": {
          "base_uri": "https://localhost:8080/",
          "height": 33
        }
      },
      "source": [
        "exemplo['José']"
      ],
      "execution_count": null,
      "outputs": [
        {
          "output_type": "execute_result",
          "data": {
            "text/plain": [
              "6"
            ]
          },
          "metadata": {
            "tags": []
          },
          "execution_count": 11
        }
      ]
    },
    {
      "cell_type": "markdown",
      "metadata": {
        "id": "r5zhDGDtW3QY"
      },
      "source": [
        "## Excluindo através de uma chave\n",
        "\n",
        "A forma de exclusão é bem semelhante a uma das formas de exclusão das listas, basta utilizar o *pop* colocando entre parênteses o que quer excluir."
      ]
    },
    {
      "cell_type": "code",
      "metadata": {
        "id": "2cTT-VfnWZ6q",
        "outputId": "b5e99d4b-b92d-4002-908f-0b2527545abe",
        "colab": {
          "base_uri": "https://localhost:8080/",
          "height": 33
        }
      },
      "source": [
        "exemplo.pop('João')\n",
        "print(exemplo)"
      ],
      "execution_count": null,
      "outputs": [
        {
          "output_type": "stream",
          "text": [
            "{'Maria': 22, 'Ana': 18, 'José': 6}\n"
          ],
          "name": "stdout"
        }
      ]
    },
    {
      "cell_type": "markdown",
      "metadata": {
        "id": "el70RPUMYE_8"
      },
      "source": [
        "## Alternado valores\n",
        "\n",
        "Para alterar os valores de um dicionário também é bem simples, basta chamar o valor que deseja ser alterado e colocar igual ao valor novo. Lembrando que o novo valor não precisa necessariamente ser um número, pode ser uma *string*, um *booleano*, uma lista, entre outros.\n",
        "\n",
        "Forma genérica:\n",
        "\n",
        "nome_do_dicionario['chave_que_quer_alterar_o_valor'] = novo_valor\n"
      ]
    },
    {
      "cell_type": "code",
      "metadata": {
        "id": "xbMrQfB_Xzhx",
        "outputId": "23093707-6c30-4946-90e9-9502b539905e",
        "colab": {
          "base_uri": "https://localhost:8080/",
          "height": 33
        }
      },
      "source": [
        "exemplo['José'] = 7\n",
        "print(exemplo)"
      ],
      "execution_count": null,
      "outputs": [
        {
          "output_type": "stream",
          "text": [
            "{'Maria': 22, 'Ana': 18, 'José': 7}\n"
          ],
          "name": "stdout"
        }
      ]
    },
    {
      "cell_type": "markdown",
      "metadata": {
        "id": "j2VVNyVwY7IP"
      },
      "source": [
        "## Funções *Built-in*\n",
        "\n",
        "Essas funções são as que já vem do python para os dicionários. O *pop*, *values*, *keys* são exemplos."
      ]
    },
    {
      "cell_type": "markdown",
      "metadata": {
        "id": "IBjmGV1dZFns"
      },
      "source": [
        "### .get()\n",
        "\n",
        "A função get possibilita a busca de um determinado valor de uma chave.\n",
        "\n",
        "Para poder acessar um valor pode-se utilizar as duas formas abaixo, mas o *get()* possui a vantagem de que quando se quer um valor que não está no dicionário não irá gerar um erro, apenas não irá gerar nada. Cada um tem suas vantagens de se utilizar e acaba que são duas formas de fazer a mesma coisa, então a escolha de qual usar fica para o usuário"
      ]
    },
    {
      "cell_type": "code",
      "metadata": {
        "id": "-OZ_pDlwYwD1",
        "outputId": "6ee1399c-8a28-4ee0-e26d-64f69e863b2c",
        "colab": {
          "base_uri": "https://localhost:8080/",
          "height": 33
        }
      },
      "source": [
        "exemplo.get('José')"
      ],
      "execution_count": null,
      "outputs": [
        {
          "output_type": "execute_result",
          "data": {
            "text/plain": [
              "7"
            ]
          },
          "metadata": {
            "tags": []
          },
          "execution_count": 16
        }
      ]
    },
    {
      "cell_type": "code",
      "metadata": {
        "id": "LYfGUnojZRhX",
        "outputId": "319571a5-340c-41b0-9ea4-ad4f892019c3",
        "colab": {
          "base_uri": "https://localhost:8080/",
          "height": 33
        }
      },
      "source": [
        "exemplo['José']"
      ],
      "execution_count": null,
      "outputs": [
        {
          "output_type": "execute_result",
          "data": {
            "text/plain": [
              "7"
            ]
          },
          "metadata": {
            "tags": []
          },
          "execution_count": 18
        }
      ]
    },
    {
      "cell_type": "markdown",
      "metadata": {
        "id": "14a7fUPFaBJi"
      },
      "source": [
        "### .items()\n",
        "\n",
        "Acima foi dito que o *keys* acessa as chaves e o *values* os valores, porém há uma forma de acessar os dois ao mesmo tempo essa forma é utilizando o *item*. Essa função retorna tuplas como resposta."
      ]
    },
    {
      "cell_type": "code",
      "metadata": {
        "id": "4rR514u2ZhaU",
        "outputId": "3c01c79d-d9dd-4767-e38e-670f537c88aa",
        "colab": {
          "base_uri": "https://localhost:8080/",
          "height": 33
        }
      },
      "source": [
        "exemplo.items()"
      ],
      "execution_count": null,
      "outputs": [
        {
          "output_type": "execute_result",
          "data": {
            "text/plain": [
              "dict_items([('Maria', 22), ('Ana', 18), ('José', 7)])"
            ]
          },
          "metadata": {
            "tags": []
          },
          "execution_count": 19
        }
      ]
    },
    {
      "cell_type": "markdown",
      "metadata": {
        "id": "_G8zyKI4agEs"
      },
      "source": [
        "### .popitem()\n",
        "\n",
        "Essa função permite que se excluua o último item do dicionário."
      ]
    },
    {
      "cell_type": "code",
      "metadata": {
        "id": "IvSmCCM1aYDE",
        "outputId": "b96004bf-1476-4940-fb17-5c439252f91a",
        "colab": {
          "base_uri": "https://localhost:8080/",
          "height": 33
        }
      },
      "source": [
        "exemplo.popitem()\n",
        "print(exemplo)"
      ],
      "execution_count": null,
      "outputs": [
        {
          "output_type": "stream",
          "text": [
            "{'Maria': 22, 'Ana': 18}\n"
          ],
          "name": "stdout"
        }
      ]
    },
    {
      "cell_type": "markdown",
      "metadata": {
        "id": "NDucG4Uha5b4"
      },
      "source": [
        "### .update()\n",
        "\n",
        "Tem a utilidade de poder juntar dois dicionários. Ao utilizar essa função ela mesma irá comparar se já tem a existência de determinado conjunto chave-valor no primeiro dicionário, caso não tenha irá adicionar, caso já possua irá atualizar com o valor desse segundo dicionário. "
      ]
    },
    {
      "cell_type": "code",
      "metadata": {
        "id": "QnZynFKSayCD",
        "outputId": "ae6d1783-86a6-4247-d124-86d69fc4889f",
        "colab": {
          "base_uri": "https://localhost:8080/",
          "height": 66
        }
      },
      "source": [
        "d1 = {'Carlos': 20, 'Roberto': 25, 'Ronaldo': 28}\n",
        "print(f'Dicionário 1: {d1}')\n",
        "d2 = {'Ana': 26, 'Felipe': 24, 'Maria': 28, 'Carlos': 23}\n",
        "print(f'Dicionário 2: {d2}')\n",
        "\n",
        "d1.update(d2)\n",
        "print(f'Dicionário final: {d1}')"
      ],
      "execution_count": null,
      "outputs": [
        {
          "output_type": "stream",
          "text": [
            "Dicionário 1: {'Carlos': 20, 'Roberto': 25, 'Ronaldo': 28}\n",
            "Dicionário 2: {'Ana': 26, 'Felipe': 24, 'Maria': 28, 'Carlos': 23}\n",
            "Dicionário final: {'Carlos': 23, 'Roberto': 25, 'Ronaldo': 28, 'Ana': 26, 'Felipe': 24, 'Maria': 28}\n"
          ],
          "name": "stdout"
        }
      ]
    },
    {
      "cell_type": "markdown",
      "metadata": {
        "id": "NzaOeqjucGVv"
      },
      "source": [
        "### .clear()\n",
        "\n",
        "Serve para limpar o dicionário. É útil para quando se tem um dicionário totalemnte desatualizado e que não é mais  útil, por exemplo."
      ]
    },
    {
      "cell_type": "code",
      "metadata": {
        "id": "7O_hpGSnb8-A",
        "outputId": "4a6d457d-c1b5-4bfd-cb2f-8ecacf062960",
        "colab": {
          "base_uri": "https://localhost:8080/",
          "height": 33
        }
      },
      "source": [
        "exemplo.clear()\n",
        "exemplo"
      ],
      "execution_count": null,
      "outputs": [
        {
          "output_type": "execute_result",
          "data": {
            "text/plain": [
              "{}"
            ]
          },
          "metadata": {
            "tags": []
          },
          "execution_count": 23
        }
      ]
    },
    {
      "cell_type": "code",
      "metadata": {
        "id": "etQvcGdQcYqH"
      },
      "source": [
        ""
      ],
      "execution_count": null,
      "outputs": []
    }
  ]
}