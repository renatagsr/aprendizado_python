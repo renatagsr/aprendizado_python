{
  "nbformat": 4,
  "nbformat_minor": 0,
  "metadata": {
    "colab": {
      "name": "Estruturas condicionais e de repetição.ipynb",
      "provenance": [],
      "authorship_tag": "ABX9TyP82XDmVgPQAYzL+PtWdpZ9",
      "include_colab_link": true
    },
    "kernelspec": {
      "name": "python3",
      "display_name": "Python 3"
    }
  },
  "cells": [
    {
      "cell_type": "markdown",
      "metadata": {
        "id": "view-in-github",
        "colab_type": "text"
      },
      "source": [
        "<a href=\"https://colab.research.google.com/github/renatagsr/aprendizado_python/blob/master/Estruturas_condicionais_e_de_repeti%C3%A7%C3%A3o.ipynb\" target=\"_parent\"><img src=\"https://colab.research.google.com/assets/colab-badge.svg\" alt=\"Open In Colab\"/></a>"
      ]
    },
    {
      "cell_type": "markdown",
      "metadata": {
        "id": "1rTqWGA0q-ah"
      },
      "source": [
        "# Estruturas condicionais e de repetição \n",
        "\n",
        "<center><img width = \"45%\" src = \"http://res.cloudinary.com/dyd911kmh/image/upload/f_auto,q_auto:best/v1532452310/Tutorial_-_Python_IF_ELIF_and_ELSE_Statements_-_Python_-_elif_errwov.png\"></center>\n",
        "\n",
        "\n",
        "Ao escrever um programa é desejável que a pessoa que o está programando tenha o controle de como ele vai fluir. Para ter esse controle utiliza-se de recursos disponibilizados pelo *python*. O *if*, *elif* e *else* servem para esse propósito visto que eles permitem que o programa flua de determinada maneira a medida que se siga as condições necessárias. Um exemplo simples é quando tem uma lista de números e quer mostrar para o usuário apenas os números pares, utilizando o *if* é possível fazer uma condição para que se o número for par mostrar na tela e se o número for ímpar não fazer nada. \n",
        "\n",
        "O *while* é uma estrutura de repetição que também auxilia na fluidez do programa. Ele serve para que se repita todo o bloco de instruções, essa repetição irá ocorrer enquanto a condição for verdadeira.\n",
        "\n",
        "A terceira estrutura que será apresentada é o *for*, ele é utilizado para percorrer os tipos de dados do bloco que for pertencente a ele.\n",
        "\n",
        "Um ponto importante sobre as duas estruturas é que elas funcionam apenas de o bloco que pertencer a ela estiver com indentação. Indentação é o ato de afastar o texto da sua margem, no caso da *python* é utilizar o 4 espaços para afastar ou o *tab*. A própria linguagem faz a indentação automática, porém é importante ficar atento porque quando uma estrutura dentro da outra tem que colocar os blocos indentados de forma correta para que o *loop* seja feito. Os dois pontos ( : ) também são importantes porque são eles que separam a condição do que vai ser executado.\n"
      ]
    },
    {
      "cell_type": "markdown",
      "metadata": {
        "id": "O7SrXrKovyyh"
      },
      "source": [
        "## IF \n",
        "\n",
        "O *else* serve para abranger todas as outras situações diferentes das que são apresentadas no *if*."
      ]
    },
    {
      "cell_type": "code",
      "metadata": {
        "id": "HinffsXOVekz",
        "outputId": "225542ed-57d5-4b1f-e97b-b56cdc03f832",
        "colab": {
          "base_uri": "https://localhost:8080/",
          "height": 34
        }
      },
      "source": [
        "#associando a idade\n",
        "\n",
        "renata = 22\n",
        "\n",
        "#criando condição\n",
        "if renata >= 18:\n",
        "  print('Pode comprar bebida')\n",
        "else: \n",
        "  print('Não pode comprar bebida')"
      ],
      "execution_count": null,
      "outputs": [
        {
          "output_type": "stream",
          "text": [
            "Pode comprar bebida\n"
          ],
          "name": "stdout"
        }
      ]
    },
    {
      "cell_type": "code",
      "metadata": {
        "id": "ryVqOU6MwI8a",
        "outputId": "1d387acf-ecd5-4d61-824a-fc8fc51070ce",
        "colab": {
          "base_uri": "https://localhost:8080/",
          "height": 34
        }
      },
      "source": [
        "#associando a idade\n",
        "\n",
        "joao = 16\n",
        "\n",
        "#criando condição\n",
        "if joao >= 18:\n",
        "  print('Pode comprar bebida')\n",
        "else: \n",
        "  print('Não pode comprar bebida')"
      ],
      "execution_count": null,
      "outputs": [
        {
          "output_type": "stream",
          "text": [
            "Não pode comprar bebida\n"
          ],
          "name": "stdout"
        }
      ]
    },
    {
      "cell_type": "code",
      "metadata": {
        "id": "Pv85Y1DFwaRf",
        "outputId": "1954442b-cad0-4ccd-9c59-70169915c232",
        "colab": {
          "base_uri": "https://localhost:8080/",
          "height": 34
        }
      },
      "source": [
        "#variáveis\n",
        "renata_idade = 22\n",
        "renata_cnh = True\n",
        "renata_pontos_cnh = 10\n",
        "\n",
        "#condição\n",
        "if renata_idade >= 18 and renata_cnh and renata_pontos_cnh < 20:\n",
        "  print('Pode alugar carro!')\n",
        "else:\n",
        "  print('Não pode alugar carro.')"
      ],
      "execution_count": null,
      "outputs": [
        {
          "output_type": "stream",
          "text": [
            "Pode alugar carro!\n"
          ],
          "name": "stdout"
        }
      ]
    },
    {
      "cell_type": "code",
      "metadata": {
        "id": "NsTNnT2_xK18",
        "outputId": "eaa54cf5-3c9b-4f1e-e643-4a6ff0e5581d",
        "colab": {
          "base_uri": "https://localhost:8080/",
          "height": 51
        }
      },
      "source": [
        "#variáveis\n",
        "saldo = 100.00\n",
        "compra_efetuada = 25.9\n",
        "\n",
        "#condição\n",
        "print(f'Saldo inicial: R$ {saldo:.2f}')\n",
        "if compra_efetuada:\n",
        "  saldo_atual = saldo - compra_efetuada\n",
        "  print(f'Saldo atual: R$ {saldo_atual:.2f}')"
      ],
      "execution_count": null,
      "outputs": [
        {
          "output_type": "stream",
          "text": [
            "Saldo inicial: R$ 100.00\n",
            "Saldo atual: R$ 74.10\n"
          ],
          "name": "stdout"
        }
      ]
    },
    {
      "cell_type": "markdown",
      "metadata": {
        "id": "HHyoMjYczFi_"
      },
      "source": [
        "## FOR\n",
        "\n",
        "No *for* é contado para o programa quantas vezes ele vai repetir para poder parar."
      ]
    },
    {
      "cell_type": "code",
      "metadata": {
        "id": "ErbOfg0sZxsb"
      },
      "source": [
        "import time"
      ],
      "execution_count": 2,
      "outputs": []
    },
    {
      "cell_type": "code",
      "metadata": {
        "id": "MawhgEV8yjD-",
        "outputId": "af9b6748-be54-4854-ad12-28b5c57ed2f6",
        "colab": {
          "base_uri": "https://localhost:8080/",
          "height": 187
        }
      },
      "source": [
        "for n in range(10):\n",
        "  print(n)\n",
        "  time.sleep(1)"
      ],
      "execution_count": 6,
      "outputs": [
        {
          "output_type": "stream",
          "text": [
            "0\n",
            "1\n",
            "2\n",
            "3\n",
            "4\n",
            "5\n",
            "6\n",
            "7\n",
            "8\n",
            "9\n"
          ],
          "name": "stdout"
        }
      ]
    },
    {
      "cell_type": "code",
      "metadata": {
        "id": "uCjlQhTbZlQg",
        "outputId": "6b1b7a71-d3a6-4566-c83b-d04cee0f596b",
        "colab": {
          "base_uri": "https://localhost:8080/",
          "height": 85
        }
      },
      "source": [
        "lista_convidados = ['Renata', 'Gabriela', 'Ana', 'Maria']\n",
        "\n",
        "for a in lista_convidados:\n",
        "  print(a)"
      ],
      "execution_count": 5,
      "outputs": [
        {
          "output_type": "stream",
          "text": [
            "Renata\n",
            "Gabriela\n",
            "Ana\n",
            "Maria\n"
          ],
          "name": "stdout"
        }
      ]
    },
    {
      "cell_type": "code",
      "metadata": {
        "id": "caPKuov1aQEM",
        "outputId": "2d312f55-056b-4a97-99d1-abee245a5dbc",
        "colab": {
          "base_uri": "https://localhost:8080/",
          "height": 238
        }
      },
      "source": [
        "print('Tábuada do 9\\n')\n",
        "for i in range(11):\n",
        "  resultado = i * 9\n",
        "  print(f'9 x {i} = {resultado}')"
      ],
      "execution_count": 10,
      "outputs": [
        {
          "output_type": "stream",
          "text": [
            "Tábuada do 9\n",
            "\n",
            "9 x 0 = 0\n",
            "9 x 1 = 9\n",
            "9 x 2 = 18\n",
            "9 x 3 = 27\n",
            "9 x 4 = 36\n",
            "9 x 5 = 45\n",
            "9 x 6 = 54\n",
            "9 x 7 = 63\n",
            "9 x 8 = 72\n",
            "9 x 9 = 81\n",
            "9 x 10 = 90\n"
          ],
          "name": "stdout"
        }
      ]
    },
    {
      "cell_type": "markdown",
      "metadata": {
        "id": "NDKMMbvBbvZS"
      },
      "source": [
        "## While\n",
        "\n",
        "O *while* irá repetir até a condição deixar de ser verdade."
      ]
    },
    {
      "cell_type": "code",
      "metadata": {
        "id": "SW9wZ0ZRbiWN",
        "outputId": "2c1f7867-8bda-4d58-eab9-3a7c844bb775",
        "colab": {
          "base_uri": "https://localhost:8080/",
          "height": 51
        }
      },
      "source": [
        "saldo = 300\n",
        "preco_pizza = 80.5\n",
        "\n",
        "counter = 0\n",
        "while saldo > preco_pizza:\n",
        "  counter = counter + 1\n",
        "  saldo = saldo - preco_pizza\n",
        "\n",
        "print(f'Você comprou {counter} pizzas!')\n",
        "print(f'Saldo remanescente: R$ {saldo:.2f}')"
      ],
      "execution_count": 12,
      "outputs": [
        {
          "output_type": "stream",
          "text": [
            "Você comprou 3 pizzas!\n",
            "Saldo remanescente: R$ 58.50\n"
          ],
          "name": "stdout"
        }
      ]
    },
    {
      "cell_type": "code",
      "metadata": {
        "id": "blPUiP_2cZGg",
        "outputId": "248a8778-d2ae-458b-d5a4-f033c9f45b38",
        "colab": {
          "base_uri": "https://localhost:8080/",
          "height": 255
        }
      },
      "source": [
        "validade_iogurte = 12\n",
        "\n",
        "while validade_iogurte > 0:\n",
        "  print(f'[+] Produto na validade. Faltam {validade_iogurte} dias para o vencimento.')\n",
        "  validade_iogurte -= 1\n",
        "\n",
        "print(f'\\n[-] ATENÇÂO: Iogurte vencido. Faltam {validade_iogurte} dias.')"
      ],
      "execution_count": 14,
      "outputs": [
        {
          "output_type": "stream",
          "text": [
            "[+] Produto na validade. Faltam 12 dias para o vencimento.\n",
            "[+] Produto na validade. Faltam 11 dias para o vencimento.\n",
            "[+] Produto na validade. Faltam 10 dias para o vencimento.\n",
            "[+] Produto na validade. Faltam 9 dias para o vencimento.\n",
            "[+] Produto na validade. Faltam 8 dias para o vencimento.\n",
            "[+] Produto na validade. Faltam 7 dias para o vencimento.\n",
            "[+] Produto na validade. Faltam 6 dias para o vencimento.\n",
            "[+] Produto na validade. Faltam 5 dias para o vencimento.\n",
            "[+] Produto na validade. Faltam 4 dias para o vencimento.\n",
            "[+] Produto na validade. Faltam 3 dias para o vencimento.\n",
            "[+] Produto na validade. Faltam 2 dias para o vencimento.\n",
            "[+] Produto na validade. Faltam 1 dias para o vencimento.\n",
            "\n",
            "[-] ATENÇÂO: Iogurte vencido. Faltam 0 dias.\n"
          ],
          "name": "stdout"
        }
      ]
    }
  ]
}