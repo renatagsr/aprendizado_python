{
  "nbformat": 4,
  "nbformat_minor": 0,
  "metadata": {
    "colab": {
      "name": "Listas.ipynb",
      "provenance": [],
      "authorship_tag": "ABX9TyMESHsEM4fi/YdfqHS4BDXa",
      "include_colab_link": true
    },
    "kernelspec": {
      "name": "python3",
      "display_name": "Python 3"
    }
  },
  "cells": [
    {
      "cell_type": "markdown",
      "metadata": {
        "id": "view-in-github",
        "colab_type": "text"
      },
      "source": [
        "<a href=\"https://colab.research.google.com/github/renatagsr/aprendizado_python/blob/master/Listas.ipynb\" target=\"_parent\"><img src=\"https://colab.research.google.com/assets/colab-badge.svg\" alt=\"Open In Colab\"/></a>"
      ]
    },
    {
      "cell_type": "markdown",
      "metadata": {
        "id": "FJrQgYmIWIbF"
      },
      "source": [
        "# Listas\n",
        "\n",
        "<center><img width=\"30%\" src=\"https://image.freepik.com/vetores-gratis/ilustracao-do-conceito-de-planilhas_114360-736.jpg\"></center>\n",
        "\n",
        "\n",
        "A lista é um conjunto de diversos dados. Todos os seus elementos tem que estar separados por vírgula. Para a sua criação é utilizado os colchetes.\n",
        "\n",
        "As listas aceitam todos os tipos de objeto ao mesmo tempo, pode conter *string*, *floats*, *booleano*, *int*.\n",
        "\n",
        "Elas nos permitem organizar melhor os dados. A possibilidade de lidar com dados ordenados facilita muito a análise dos dados e a visualização. \n",
        "\n",
        "Outra vantagem das listas é que elas são maleáveis, ou seja, aceitam que se adicione novos dados ou que retire dados já existentes.\n",
        "\n",
        "---"
      ]
    },
    {
      "cell_type": "markdown",
      "metadata": {
        "id": "FQ_RIBPpWLHW"
      },
      "source": [
        "Criando uma lista vazia. \n",
        "\n",
        "Uma lista vazia pode ser útil para colocar itens nela depois, seja através de um cálculo, de um data set, entre outros."
      ]
    },
    {
      "cell_type": "code",
      "metadata": {
        "id": "JFwBNV1pVWns",
        "outputId": "8bb17f69-9246-41d3-8918-7bd21887831e",
        "colab": {
          "base_uri": "https://localhost:8080/",
          "height": 50
        }
      },
      "source": [
        "lista_inicial = []\n",
        "print(lista_inicial)\n",
        "print(type(lista_inicial))"
      ],
      "execution_count": null,
      "outputs": [
        {
          "output_type": "stream",
          "text": [
            "[]\n",
            "<class 'list'>\n"
          ],
          "name": "stdout"
        }
      ]
    },
    {
      "cell_type": "markdown",
      "metadata": {
        "id": "KgtdOvRua-_v"
      },
      "source": [
        "Conforme dito anteriormente, uma lista pode conter diversos tipos de objetos ao mesmo tempo. Um ponto importante a ser ressaltado é que a própria lista entende qual tipo de variável está sendo colocada nela, no exemplo abaixo percebe-se que a lista entendeu que que dois primeiros itens são *string*, que o terceiro item é uma *float* e que o quarto item é um *booleano*."
      ]
    },
    {
      "cell_type": "code",
      "metadata": {
        "id": "CPMvkk8IV_GC",
        "outputId": "bdaec29e-d794-40d7-a81c-7cdfb2da4d0f",
        "colab": {
          "base_uri": "https://localhost:8080/",
          "height": 33
        }
      },
      "source": [
        "lista_inicial = ['Renata', 'Gabriela', 1.65, True]\n",
        "lista_inicial"
      ],
      "execution_count": null,
      "outputs": [
        {
          "output_type": "execute_result",
          "data": {
            "text/plain": [
              "['Renata', 'Gabriela', 1.65, True]"
            ]
          },
          "metadata": {
            "tags": []
          },
          "execution_count": 2
        }
      ]
    },
    {
      "cell_type": "markdown",
      "metadata": {
        "id": "EfnjqjiSblFK"
      },
      "source": [
        "## Acessar elemento dentro da lista\n",
        "\n",
        "Para acessar algum elemento da lista é necessário indicar qual a posição que ele está localizado. Um ponto importante é que os índices sempre iniciam sua contagem a partir do 0.\n",
        "\n",
        "Uma vantagem do python é que caso não se saiba qual o tamanho da lista e quiser acessar os últimos valores é possível acessar utilizando números negativos. Exemplo: se quiser acessar o último elemento dentro da lista irá utilizar o indíce -1, se quiser acessar o penúltimo item da lista irá utilizar o -2 e assim sucessivamente.\n",
        "\n",
        "Utilizando o exemplo acima para demonstrar como seria cada índice da lista:\n",
        "\n",
        "| \"Renata\" | \"Gabriela\" | 1.65 | True |\n",
        "|----------|--------|-------|------|\n",
        "| 0        | 1      | 2     | 3    |\n",
        "| \\-4      | \\-3    | \\-2   | \\-1  |"
      ]
    },
    {
      "cell_type": "code",
      "metadata": {
        "id": "ePgBAchwa9O0",
        "outputId": "b5056c0d-5169-4e9d-dd88-8e69bea94e2c",
        "colab": {
          "base_uri": "https://localhost:8080/",
          "height": 33
        }
      },
      "source": [
        "print(lista_inicial[0])"
      ],
      "execution_count": null,
      "outputs": [
        {
          "output_type": "stream",
          "text": [
            "Renata\n"
          ],
          "name": "stdout"
        }
      ]
    },
    {
      "cell_type": "code",
      "metadata": {
        "id": "3yIZqKvocz38",
        "outputId": "11841cbd-0131-41a3-9f0c-16abc4a7f3da",
        "colab": {
          "base_uri": "https://localhost:8080/",
          "height": 33
        }
      },
      "source": [
        "print(lista_inicial[1])"
      ],
      "execution_count": null,
      "outputs": [
        {
          "output_type": "stream",
          "text": [
            "Gabriela\n"
          ],
          "name": "stdout"
        }
      ]
    },
    {
      "cell_type": "code",
      "metadata": {
        "id": "uU-exUQgc2n6",
        "outputId": "f7eeae47-929e-4a9c-ff01-f2de763d6fbe",
        "colab": {
          "base_uri": "https://localhost:8080/",
          "height": 50
        }
      },
      "source": [
        "print(lista_inicial[-1])\n",
        "print(lista_inicial[3])"
      ],
      "execution_count": null,
      "outputs": [
        {
          "output_type": "stream",
          "text": [
            "True\n",
            "True\n"
          ],
          "name": "stdout"
        }
      ]
    },
    {
      "cell_type": "code",
      "metadata": {
        "id": "UKpDDZ0Uc66B",
        "outputId": "ce6b4400-90be-4493-87c7-c2377633e67f",
        "colab": {
          "base_uri": "https://localhost:8080/",
          "height": 50
        }
      },
      "source": [
        "print(lista_inicial[-2])\n",
        "print(lista_inicial[2])"
      ],
      "execution_count": null,
      "outputs": [
        {
          "output_type": "stream",
          "text": [
            "1.65\n",
            "1.65\n"
          ],
          "name": "stdout"
        }
      ]
    },
    {
      "cell_type": "markdown",
      "metadata": {
        "id": "qf9KESMveOnX"
      },
      "source": [
        "### Fatiar lista\n",
        "\n",
        "Da mesma forma que é possível fatiar uma *string* pode ser feito também com uma lista. Fatiar significa que acessar partes de uma lista. \n",
        "\n",
        "Uma lista que contenha dados de compra de um cliente de uma determinada loja, poderá ter o nome do cliente, sua profissão e os valores de todas as compras realizadas pelo cliente. Nesse exemplo, pode ser que o dono da loja queira acessar apenas os valores das compras do cliente para poder fazer uma análise gráfica, por exemplo, então ele utilizará o fatiamento para acessar apenas os elementos de interesse. \n",
        "\n",
        "Exemplo:\n",
        "\n",
        "| 'Renata' | 'Estudante' | 100.40 | 20.50 | 40.90 | 120.30| \n",
        "|----------|-------------|--------|-------|-------|-------|\n",
        "|    0     |     1       |    2   |    3  |   4   |   5   |\n",
        "|   \\-6    |    \\-5      |   \\-4  |  \\-3  |   \\-2 |   \\-1 |"
      ]
    },
    {
      "cell_type": "code",
      "metadata": {
        "id": "KYnZwiZAc9VU"
      },
      "source": [
        "cliente = ['Renata', 'Estudante', 100.40, 20.5, 40.9, 120.3]"
      ],
      "execution_count": null,
      "outputs": []
    },
    {
      "cell_type": "code",
      "metadata": {
        "id": "fVN_ThtogKgL",
        "outputId": "b4b9e182-72b4-44a3-c923-81915ea1a6fc",
        "colab": {
          "base_uri": "https://localhost:8080/",
          "height": 33
        }
      },
      "source": [
        "cliente[2:]"
      ],
      "execution_count": null,
      "outputs": [
        {
          "output_type": "execute_result",
          "data": {
            "text/plain": [
              "[100.4, 20.5, 40.9, 120.3]"
            ]
          },
          "metadata": {
            "tags": []
          },
          "execution_count": 8
        }
      ]
    },
    {
      "cell_type": "markdown",
      "metadata": {
        "id": "jcpYmsHEgnAV"
      },
      "source": [
        "### Item pertence a lista\n",
        "\n",
        "É possível ver se determinado item pertence a lista que está sendo utilizada. Isso é útil quando não se conhece a lista ou é uma lista muito grande, dessa forma ao invés de ter que ver item por item é possível ir direto ao ponto e saber se ele pertence a lista ou não.\n",
        "\n",
        "Um ponto importante a ser dito sobre o python e sobre as listas é que para haver correspondência é necessário que o termos sejam exatamente iguais."
      ]
    },
    {
      "cell_type": "code",
      "metadata": {
        "id": "2RnDcLnbgMee"
      },
      "source": [
        "supermercado = ['leite', 'carne', 'biscoitos', 'produtos congelados', 'refrigerante', 'suco']"
      ],
      "execution_count": null,
      "outputs": []
    },
    {
      "cell_type": "code",
      "metadata": {
        "id": "viq8XIr8hN4o",
        "outputId": "e0d1e14a-2d6e-4381-8ad3-10459c114612",
        "colab": {
          "base_uri": "https://localhost:8080/",
          "height": 33
        }
      },
      "source": [
        "'suco' in supermercado"
      ],
      "execution_count": null,
      "outputs": [
        {
          "output_type": "execute_result",
          "data": {
            "text/plain": [
              "True"
            ]
          },
          "metadata": {
            "tags": []
          },
          "execution_count": 10
        }
      ]
    },
    {
      "cell_type": "code",
      "metadata": {
        "id": "UC-_d5zdhpo2",
        "outputId": "1b6c2204-ed8e-4255-aeff-b0a65d6ec23d",
        "colab": {
          "base_uri": "https://localhost:8080/",
          "height": 33
        }
      },
      "source": [
        "'Suco' in supermercado"
      ],
      "execution_count": null,
      "outputs": [
        {
          "output_type": "execute_result",
          "data": {
            "text/plain": [
              "False"
            ]
          },
          "metadata": {
            "tags": []
          },
          "execution_count": 11
        }
      ]
    },
    {
      "cell_type": "markdown",
      "metadata": {
        "id": "bWA2tJorhsY6"
      },
      "source": [
        "Percebe-se que a palavra \"suco\", nesse caso, está começando com a primeira letra maiúscula e na lista está tudo minúsculo, então o python não entende que são iguais."
      ]
    },
    {
      "cell_type": "code",
      "metadata": {
        "id": "WWD7a48jhQt0",
        "outputId": "c2a09585-1e58-4321-a602-35852c7b54ba",
        "colab": {
          "base_uri": "https://localhost:8080/",
          "height": 33
        }
      },
      "source": [
        "'carro' in supermercado"
      ],
      "execution_count": null,
      "outputs": [
        {
          "output_type": "execute_result",
          "data": {
            "text/plain": [
              "False"
            ]
          },
          "metadata": {
            "tags": []
          },
          "execution_count": 12
        }
      ]
    },
    {
      "cell_type": "code",
      "metadata": {
        "id": "9TsRo7uJhXZw",
        "outputId": "7553b058-7e6f-4fa1-b62f-3e1db58f260d",
        "colab": {
          "base_uri": "https://localhost:8080/",
          "height": 33
        }
      },
      "source": [
        "'carro' not in supermercado"
      ],
      "execution_count": null,
      "outputs": [
        {
          "output_type": "execute_result",
          "data": {
            "text/plain": [
              "True"
            ]
          },
          "metadata": {
            "tags": []
          },
          "execution_count": 13
        }
      ]
    },
    {
      "cell_type": "markdown",
      "metadata": {
        "id": "9HmZm5lNiDy_"
      },
      "source": [
        "O \"not in\" costuma confundir as pessoas são sempre o inverso. No exemplo acima o python está afirmando que \"carro\" não está na lista supermercado e isso inicialmente isso pode ser confuso. "
      ]
    },
    {
      "cell_type": "markdown",
      "metadata": {
        "id": "yZckzk8Pias2"
      },
      "source": [
        "### Alterando item da lista\n",
        "\n",
        "Conforme dito anteriormente, as listas são mutáveis, ou seja, elas podem alterar trocar um item já existente por outro, pode acrescentar novos itens nela ou pode retirar itens."
      ]
    },
    {
      "cell_type": "code",
      "metadata": {
        "id": "CPrl0JLqiC-I",
        "outputId": "d20dbdb8-0c29-47fc-dcd5-66ca944a90e0",
        "colab": {
          "base_uri": "https://localhost:8080/",
          "height": 33
        }
      },
      "source": [
        "animais = ['cachorro', 'gato', 'coelho']\n",
        "animais"
      ],
      "execution_count": null,
      "outputs": [
        {
          "output_type": "execute_result",
          "data": {
            "text/plain": [
              "['cachorro', 'gato', 'coelho']"
            ]
          },
          "metadata": {
            "tags": []
          },
          "execution_count": 14
        }
      ]
    },
    {
      "cell_type": "code",
      "metadata": {
        "id": "H_guzDrDh-J2"
      },
      "source": [
        "animais[2] = 'peixe'"
      ],
      "execution_count": null,
      "outputs": []
    },
    {
      "cell_type": "code",
      "metadata": {
        "id": "LGM5FjPDi-iS",
        "outputId": "ad9495d7-5776-454e-a0a7-e6dc3f24ed8f",
        "colab": {
          "base_uri": "https://localhost:8080/",
          "height": 33
        }
      },
      "source": [
        "animais"
      ],
      "execution_count": null,
      "outputs": [
        {
          "output_type": "execute_result",
          "data": {
            "text/plain": [
              "['cachorro', 'gato', 'peixe']"
            ]
          },
          "metadata": {
            "tags": []
          },
          "execution_count": 16
        }
      ]
    },
    {
      "cell_type": "code",
      "metadata": {
        "id": "uTYjDPZ6i_zP"
      },
      "source": [
        "animais.append('coelho')"
      ],
      "execution_count": null,
      "outputs": []
    },
    {
      "cell_type": "code",
      "metadata": {
        "id": "PbdlB1e-jSvO",
        "outputId": "278e2b6c-997c-4fcb-d33d-4d012a764d79",
        "colab": {
          "base_uri": "https://localhost:8080/",
          "height": 33
        }
      },
      "source": [
        "animais"
      ],
      "execution_count": null,
      "outputs": [
        {
          "output_type": "execute_result",
          "data": {
            "text/plain": [
              "['cachorro', 'gato', 'peixe', 'coelho']"
            ]
          },
          "metadata": {
            "tags": []
          },
          "execution_count": 18
        }
      ]
    },
    {
      "cell_type": "markdown",
      "metadata": {
        "id": "rHSYzxNbjxRZ"
      },
      "source": [
        "Para poder excluir um item de uma lista há duas formas. Uma forma utiliza a posição do item que a pessoa deseja excluir, essa forma é utilizando o \"pop\". A outra utiliza diretamente o termo que se quer excluir, ela utiliza o \"remove\"."
      ]
    },
    {
      "cell_type": "code",
      "metadata": {
        "id": "jMwod4VOjUQq",
        "outputId": "d4d4801b-d67d-4a26-a465-bce87b48e68f",
        "colab": {
          "base_uri": "https://localhost:8080/",
          "height": 34
        }
      },
      "source": [
        "animais.pop(0)"
      ],
      "execution_count": null,
      "outputs": [
        {
          "output_type": "execute_result",
          "data": {
            "application/vnd.google.colaboratory.intrinsic+json": {
              "type": "string"
            },
            "text/plain": [
              "'cachorro'"
            ]
          },
          "metadata": {
            "tags": []
          },
          "execution_count": 19
        }
      ]
    },
    {
      "cell_type": "code",
      "metadata": {
        "id": "UB5Q-aHFjcgO",
        "outputId": "5566c68a-9731-4cbd-ac2b-5cebb0529883",
        "colab": {
          "base_uri": "https://localhost:8080/",
          "height": 33
        }
      },
      "source": [
        "animais"
      ],
      "execution_count": null,
      "outputs": [
        {
          "output_type": "execute_result",
          "data": {
            "text/plain": [
              "['gato', 'peixe', 'coelho']"
            ]
          },
          "metadata": {
            "tags": []
          },
          "execution_count": 20
        }
      ]
    },
    {
      "cell_type": "code",
      "metadata": {
        "id": "YOarh7K9jeu3"
      },
      "source": [
        "animais.remove('gato')"
      ],
      "execution_count": null,
      "outputs": []
    },
    {
      "cell_type": "code",
      "metadata": {
        "id": "jBfYfJuyjk-_",
        "outputId": "2c438144-c558-4cbd-87c8-3a383951db96",
        "colab": {
          "base_uri": "https://localhost:8080/",
          "height": 33
        }
      },
      "source": [
        "animais"
      ],
      "execution_count": null,
      "outputs": [
        {
          "output_type": "execute_result",
          "data": {
            "text/plain": [
              "['peixe', 'coelho']"
            ]
          },
          "metadata": {
            "tags": []
          },
          "execution_count": 22
        }
      ]
    },
    {
      "cell_type": "code",
      "metadata": {
        "id": "LvorUnC8jquB"
      },
      "source": [
        ""
      ],
      "execution_count": null,
      "outputs": []
    }
  ]
}