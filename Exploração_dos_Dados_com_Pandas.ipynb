{
  "nbformat": 4,
  "nbformat_minor": 0,
  "metadata": {
    "colab": {
      "name": "Exploração dos Dados com Pandas.ipynb",
      "provenance": [],
      "authorship_tag": "ABX9TyOfdOU6NzRwvneKtGsCfzrV",
      "include_colab_link": true
    },
    "kernelspec": {
      "name": "python3",
      "display_name": "Python 3"
    }
  },
  "cells": [
    {
      "cell_type": "markdown",
      "metadata": {
        "id": "view-in-github",
        "colab_type": "text"
      },
      "source": [
        "<a href=\"https://colab.research.google.com/github/renatagsr/aprendizado_python/blob/master/Explora%C3%A7%C3%A3o_dos_Dados_com_Pandas.ipynb\" target=\"_parent\"><img src=\"https://colab.research.google.com/assets/colab-badge.svg\" alt=\"Open In Colab\"/></a>"
      ]
    },
    {
      "cell_type": "markdown",
      "metadata": {
        "id": "4CGzk5vpqKg3"
      },
      "source": [
        "# Exploração de dados com Pandas\n",
        "\n",
        "A base de dados desse notebook foram retiradas do Kaggle e podem ser encontradas [aqui](https://www.kaggle.com/ravels1991/brasil-solicitaes-de-refugiado?).\n",
        "\n",
        "Os dados são sobre solicitações de reconhecimento de pessoas na condição de refugiados no período de 1994 até 2019, eles foram criados e disponibilizados pela Comitê Nacional para os Refugiados."
      ]
    },
    {
      "cell_type": "code",
      "metadata": {
        "id": "3ynb0NKN4Ey7"
      },
      "source": [
        "import pandas as pd"
      ],
      "execution_count": 1,
      "outputs": []
    },
    {
      "cell_type": "code",
      "metadata": {
        "id": "ZJ_eqz0v4tM8"
      },
      "source": [
        "df = pd.read_excel(\"https://www.dropbox.com/s/69pajozeme6ezjc/solicitacoes-de-reconhecimento-da-condicao-de-refugiado.xlsx?dl=1\")"
      ],
      "execution_count": 2,
      "outputs": []
    },
    {
      "cell_type": "code",
      "metadata": {
        "id": "PuIc2pcY43tT",
        "outputId": "fdc3f396-279c-4b59-dc21-365e2fdc37d3",
        "colab": {
          "base_uri": "https://localhost:8080/",
          "height": 204
        }
      },
      "source": [
        "df.head()"
      ],
      "execution_count": 3,
      "outputs": [
        {
          "output_type": "execute_result",
          "data": {
            "text/html": [
              "<div>\n",
              "<style scoped>\n",
              "    .dataframe tbody tr th:only-of-type {\n",
              "        vertical-align: middle;\n",
              "    }\n",
              "\n",
              "    .dataframe tbody tr th {\n",
              "        vertical-align: top;\n",
              "    }\n",
              "\n",
              "    .dataframe thead th {\n",
              "        text-align: right;\n",
              "    }\n",
              "</style>\n",
              "<table border=\"1\" class=\"dataframe\">\n",
              "  <thead>\n",
              "    <tr style=\"text-align: right;\">\n",
              "      <th></th>\n",
              "      <th>Tipo de Alertas e Restrições</th>\n",
              "      <th>Nacionalidade</th>\n",
              "      <th>Mês/Ano</th>\n",
              "      <th>UF</th>\n",
              "      <th>Quantidade</th>\n",
              "    </tr>\n",
              "  </thead>\n",
              "  <tbody>\n",
              "    <tr>\n",
              "      <th>0</th>\n",
              "      <td>SOLICITAÇÃO DE REFÚGIO</td>\n",
              "      <td>AFEGANISTÃO</td>\n",
              "      <td>12/2001</td>\n",
              "      <td>DF</td>\n",
              "      <td>1</td>\n",
              "    </tr>\n",
              "    <tr>\n",
              "      <th>1</th>\n",
              "      <td>SOLICITAÇÃO DE REFÚGIO</td>\n",
              "      <td>AFEGANISTÃO</td>\n",
              "      <td>01/2010</td>\n",
              "      <td>DF</td>\n",
              "      <td>1</td>\n",
              "    </tr>\n",
              "    <tr>\n",
              "      <th>2</th>\n",
              "      <td>SOLICITAÇÃO DE REFÚGIO</td>\n",
              "      <td>AFEGANISTÃO</td>\n",
              "      <td>03/2010</td>\n",
              "      <td>DF</td>\n",
              "      <td>2</td>\n",
              "    </tr>\n",
              "    <tr>\n",
              "      <th>3</th>\n",
              "      <td>SOLICITAÇÃO DE REFÚGIO</td>\n",
              "      <td>AFEGANISTÃO</td>\n",
              "      <td>03/2010</td>\n",
              "      <td>SP</td>\n",
              "      <td>2</td>\n",
              "    </tr>\n",
              "    <tr>\n",
              "      <th>4</th>\n",
              "      <td>SOLICITAÇÃO DE REFÚGIO</td>\n",
              "      <td>AFEGANISTÃO</td>\n",
              "      <td>08/2010</td>\n",
              "      <td>DF</td>\n",
              "      <td>1</td>\n",
              "    </tr>\n",
              "  </tbody>\n",
              "</table>\n",
              "</div>"
            ],
            "text/plain": [
              "  Tipo de Alertas e Restrições Nacionalidade  Mês/Ano  UF  Quantidade\n",
              "0       SOLICITAÇÃO DE REFÚGIO   AFEGANISTÃO  12/2001  DF           1\n",
              "1       SOLICITAÇÃO DE REFÚGIO   AFEGANISTÃO  01/2010  DF           1\n",
              "2       SOLICITAÇÃO DE REFÚGIO   AFEGANISTÃO  03/2010  DF           2\n",
              "3       SOLICITAÇÃO DE REFÚGIO   AFEGANISTÃO  03/2010  SP           2\n",
              "4       SOLICITAÇÃO DE REFÚGIO   AFEGANISTÃO  08/2010  DF           1"
            ]
          },
          "metadata": {
            "tags": []
          },
          "execution_count": 3
        }
      ]
    },
    {
      "cell_type": "code",
      "metadata": {
        "id": "OJHaFUya46pu",
        "outputId": "4ecf0826-8d8b-4638-c0e9-19fcf3ecde37",
        "colab": {
          "base_uri": "https://localhost:8080/",
          "height": 612
        }
      },
      "source": [
        "df['Nacionalidade'].unique()"
      ],
      "execution_count": 4,
      "outputs": [
        {
          "output_type": "execute_result",
          "data": {
            "text/plain": [
              "array(['AFEGANISTÃO', 'ALBÂNIA', 'ALEMANHA', 'ANDORRA', 'ANGOLA',\n",
              "       'APÁTRIDA', 'ARGENTINA', 'ARGÉLIA', 'ARMÊNIA', 'ARÁBIA SAUDITA',\n",
              "       'AUSTRÁLIA', 'BANGLADESH', 'BARBADOS', 'BAREINE', 'BELARUS',\n",
              "       'BELIZE', 'BENIN', 'BHUTAN', 'BOLÍVIA', 'BRASIL', 'BULGÁRIA',\n",
              "       'BURKINA FASO', 'BURUNDI', 'BUTÃO', 'BÉLGICA',\n",
              "       'BÓSNIA E HERZEGOVINA', 'CABO VERDE', 'CAMARÕES', 'CAMBOJA',\n",
              "       'CANADÁ', 'CAZAQUISTÃO', 'CHILE', 'CHINA', 'COLÔMBIA', 'CONGO',\n",
              "       'CORÉIA DO NORTE', 'CORÉIA DO SUL', 'COSTA DO MARFIM',\n",
              "       'COSTA RICA', 'CROÁCIA', 'CUBA', 'DAOME', 'DINAMARCA', 'DJIBUTI',\n",
              "       'DOMINICA', 'EGITO', 'EL SALVADOR', 'EMIRADOS ÁRABES', 'EQUADOR',\n",
              "       'ERITRÉIA', 'ESLOVÁQUIA', 'ESPANHA', 'ESTADOS UNIDOS', 'ESTÔNIA',\n",
              "       'ETIÓPIA', 'FIJI, ILHAS', 'FILIPINAS', 'FRANÇA', 'GABÃO', 'GANA',\n",
              "       'GEÓRGIA', 'GRÉCIA', 'GUAM', 'GUATEMALA', 'GUIANA',\n",
              "       'GUIANA FRANCESA', 'GUINÉ', 'GUINÉ BISSAU', 'GUINÉ EQUATORIAL',\n",
              "       'GÂMBIA', 'HAITI', 'HONDURAS', 'HUNGRIA', 'INDONÉSIA', 'IRAQUE',\n",
              "       'IRLANDA', 'IRÃ', 'ISRAEL', 'ITÁLIA', 'IUGUSLAVIA', 'IÊMEN',\n",
              "       'JAMAICA', 'JAPÃO', 'JORDÂNIA', 'KUAITE', 'LAOS', 'LESOTO',\n",
              "       'LETÔNIA', 'LIBÉRIA', 'LITUÂNIA', 'LÍBANO', 'LÍBIA',\n",
              "       'MACAU (R.A.E.)', 'MACEDÔNIA', 'MALGAXE', 'MALI', 'MALTA',\n",
              "       'MALÁSIA', 'MARROCOS', 'MAURITÂNIA', 'MAURÍCIO', 'MONGÓLIA',\n",
              "       'MOÇAMBIQUE', 'MYANMAR', 'MÉXICO', 'NACIONALIDADE INDEFINIDA',\n",
              "       'NAMÍBIA', 'NEPAL', 'NICARÁGUA', 'NIGÉRIA', 'NORUEGA',\n",
              "       'NOVA ZELÂNDIA', 'NÍGER', 'PALESTINA', 'PANAMÁ', 'PAQUISTÃO',\n",
              "       'PARAGUAI', 'PAÍSES BAIXOS', 'PERU', 'POLÔNIA', 'PORTUGAL',\n",
              "       'QUÊNIA', 'REINO UNIDO', 'REP. CENTRO AFRICANA', 'REP. DOMINICANA',\n",
              "       'REPÚBLICA DEMOCRÁTICA DO CONGO', 'REPÚBLICA TCHECA', 'ROMÊNIA',\n",
              "       'RUANDA', 'RÚSSIA', 'SAARA OCIDENTAL\\n- SAARAUI, REPÚBLICA',\n",
              "       'SENEGAL', 'SERRA LEOA', 'SOMÁLIA', 'SRI LANKA',\n",
              "       'ST. PIERRE ET MIQUELON', 'SUDÃO', 'SURINAME', 'SUÉCIA', 'SUÍÇA',\n",
              "       'SÃO TOMÉ E PRÍNCIPE', 'SÉRVIA', 'SÍRIA', 'TAILÂNDIA', 'TAIWAN',\n",
              "       'TANZÂNIA', 'TOGO', 'TRINIDAD E TOBAGO', 'TUNÍSIA',\n",
              "       'TURCOMENISTÃO', 'TURQUIA', 'UCRÂNIA', 'UGANDA', 'UNIÃO SOVIÉTICA',\n",
              "       'URUGUAI', 'UZBEQUISTÃO', 'VANUATU', 'VATICANO', 'VENEZUELA',\n",
              "       'VIETNÃ', 'ZAIRE', 'ZIMBÁBUE', 'ZÂMBIA', 'ÁFRICA DO SUL', 'ÍNDIA'],\n",
              "      dtype=object)"
            ]
          },
          "metadata": {
            "tags": []
          },
          "execution_count": 4
        }
      ]
    },
    {
      "cell_type": "markdown",
      "metadata": {
        "id": "k74t3vjTrLoo"
      },
      "source": [
        "Utilizando o \"unique\" obtêm-se todos as nacionalidades dos refugiados que pediram abrigo/auxílio diplomático do Brasil."
      ]
    },
    {
      "cell_type": "code",
      "metadata": {
        "id": "p5C8pupQ5N35",
        "outputId": "4d440cb9-e439-426b-b1a2-1087b22aa39b",
        "colab": {
          "base_uri": "https://localhost:8080/",
          "height": 221
        }
      },
      "source": [
        "df['Nacionalidade'].value_counts()"
      ],
      "execution_count": 5,
      "outputs": [
        {
          "output_type": "execute_result",
          "data": {
            "text/plain": [
              "CUBA         887\n",
              "HAITI        775\n",
              "VENEZUELA    665\n",
              "COLÔMBIA     556\n",
              "SENEGAL      469\n",
              "            ... \n",
              "BARBADOS       1\n",
              "MAURÍCIO       1\n",
              "BÉLGICA        1\n",
              "SUÍÇA          1\n",
              "DAOME          1\n",
              "Name: Nacionalidade, Length: 165, dtype: int64"
            ]
          },
          "metadata": {
            "tags": []
          },
          "execution_count": 5
        }
      ]
    },
    {
      "cell_type": "markdown",
      "metadata": {
        "id": "CtIhMpLQreEA"
      },
      "source": [
        "Com o \"value_counts()\" descobre-se que as pessoas que mais pedem abrigo no Brasil são de 5 principais nacionalidades: Cuba, Haiti, Venezuela, Colômbia e Senegal."
      ]
    },
    {
      "cell_type": "code",
      "metadata": {
        "id": "IejfAHDz5XYT",
        "outputId": "e03abb6a-1c26-4775-f632-0f9ad9d06513",
        "colab": {
          "base_uri": "https://localhost:8080/",
          "height": 204
        }
      },
      "source": [
        "df['Nacionalidade'].value_counts()[:10]"
      ],
      "execution_count": 6,
      "outputs": [
        {
          "output_type": "execute_result",
          "data": {
            "text/plain": [
              "CUBA            887\n",
              "HAITI           775\n",
              "VENEZUELA       665\n",
              "COLÔMBIA        556\n",
              "SENEGAL         469\n",
              "SÍRIA           466\n",
              "BANGLADESH      385\n",
              "GUINÉ BISSAU    371\n",
              "ANGOLA          343\n",
              "CONGO           337\n",
              "Name: Nacionalidade, dtype: int64"
            ]
          },
          "metadata": {
            "tags": []
          },
          "execution_count": 6
        }
      ]
    },
    {
      "cell_type": "markdown",
      "metadata": {
        "id": "zjgzskIbr6Mk"
      },
      "source": [
        "10 principais nacionalidades."
      ]
    },
    {
      "cell_type": "code",
      "metadata": {
        "id": "7Sxjsb8J5h91",
        "outputId": "28c64f3b-7f6f-4e34-f397-edb0b9f4548a",
        "colab": {
          "base_uri": "https://localhost:8080/",
          "height": 34
        }
      },
      "source": [
        "df['Quantidade'].sum()"
      ],
      "execution_count": 7,
      "outputs": [
        {
          "output_type": "execute_result",
          "data": {
            "text/plain": [
              "178037"
            ]
          },
          "metadata": {
            "tags": []
          },
          "execution_count": 7
        }
      ]
    },
    {
      "cell_type": "markdown",
      "metadata": {
        "id": "0t1XyctEr-Pl"
      },
      "source": [
        "No período de 1994 até 2019 178.037 pessoas pediram abrigo no Brasil."
      ]
    },
    {
      "cell_type": "code",
      "metadata": {
        "id": "e1FHLkHa5ncH"
      },
      "source": [
        ""
      ],
      "execution_count": 7,
      "outputs": []
    }
  ]
}