{
  "nbformat": 4,
  "nbformat_minor": 0,
  "metadata": {
    "colab": {
      "name": "Identificando Valores Duplicados.ipynb",
      "provenance": [],
      "authorship_tag": "ABX9TyNYD2XPSrw9QnhGBXDz9v4x",
      "include_colab_link": true
    },
    "kernelspec": {
      "name": "python3",
      "display_name": "Python 3"
    }
  },
  "cells": [
    {
      "cell_type": "markdown",
      "metadata": {
        "id": "view-in-github",
        "colab_type": "text"
      },
      "source": [
        "<a href=\"https://colab.research.google.com/github/renatagsr/aprendizado_python/blob/master/Identificando_Valores_Duplicados.ipynb\" target=\"_parent\"><img src=\"https://colab.research.google.com/assets/colab-badge.svg\" alt=\"Open In Colab\"/></a>"
      ]
    },
    {
      "cell_type": "markdown",
      "metadata": {
        "id": "yWxRF4jaZCcO"
      },
      "source": [
        "## Lidando com Dados Duplicados\n",
        "\n",
        "Ter dados duplicados pode ser um grande problema, pois eles ocupam mais espaço, necessitando maior poder computacional para erem processados de forma inútil, visto que a duplicidade de dados não da mais informações. Além disso o fato de ter mais dados do que o real, pode interferir na análise que será feita."
      ]
    },
    {
      "cell_type": "code",
      "metadata": {
        "id": "nTg2xqapYqBa"
      },
      "source": [
        "import pandas as pd"
      ],
      "execution_count": 1,
      "outputs": []
    },
    {
      "cell_type": "code",
      "metadata": {
        "id": "xsiMK519Zmwt",
        "outputId": "7bed0926-d421-4e77-8d2a-73d7ef7c4e30",
        "colab": {
          "base_uri": "https://localhost:8080/",
          "height": 328
        }
      },
      "source": [
        "df = pd.read_excel('https://www.dropbox.com/s/v0x8mbaygdqubli/contas_a_pagar.xlsx?dl=1')\n",
        "df"
      ],
      "execution_count": 2,
      "outputs": [
        {
          "output_type": "execute_result",
          "data": {
            "text/html": [
              "<div>\n",
              "<style scoped>\n",
              "    .dataframe tbody tr th:only-of-type {\n",
              "        vertical-align: middle;\n",
              "    }\n",
              "\n",
              "    .dataframe tbody tr th {\n",
              "        vertical-align: top;\n",
              "    }\n",
              "\n",
              "    .dataframe thead th {\n",
              "        text-align: right;\n",
              "    }\n",
              "</style>\n",
              "<table border=\"1\" class=\"dataframe\">\n",
              "  <thead>\n",
              "    <tr style=\"text-align: right;\">\n",
              "      <th></th>\n",
              "      <th>pagamento</th>\n",
              "      <th>valor</th>\n",
              "      <th>codigo_pagamento</th>\n",
              "    </tr>\n",
              "  </thead>\n",
              "  <tbody>\n",
              "    <tr>\n",
              "      <th>0</th>\n",
              "      <td>imposto x</td>\n",
              "      <td>458.86</td>\n",
              "      <td>123456789012</td>\n",
              "    </tr>\n",
              "    <tr>\n",
              "      <th>1</th>\n",
              "      <td>imposto y</td>\n",
              "      <td>467.69</td>\n",
              "      <td>123456789012</td>\n",
              "    </tr>\n",
              "    <tr>\n",
              "      <th>2</th>\n",
              "      <td>imposto z</td>\n",
              "      <td>25.15</td>\n",
              "      <td>555444332221</td>\n",
              "    </tr>\n",
              "    <tr>\n",
              "      <th>3</th>\n",
              "      <td>agua</td>\n",
              "      <td>951.31</td>\n",
              "      <td>568754456745</td>\n",
              "    </tr>\n",
              "    <tr>\n",
              "      <th>4</th>\n",
              "      <td>luz</td>\n",
              "      <td>1548.25</td>\n",
              "      <td>546982454523</td>\n",
              "    </tr>\n",
              "    <tr>\n",
              "      <th>5</th>\n",
              "      <td>internet</td>\n",
              "      <td>798.99</td>\n",
              "      <td>364821542215</td>\n",
              "    </tr>\n",
              "    <tr>\n",
              "      <th>6</th>\n",
              "      <td>segurança</td>\n",
              "      <td>1439.54</td>\n",
              "      <td>546982454123</td>\n",
              "    </tr>\n",
              "    <tr>\n",
              "      <th>7</th>\n",
              "      <td>segurança</td>\n",
              "      <td>1439.54</td>\n",
              "      <td>546982454123</td>\n",
              "    </tr>\n",
              "    <tr>\n",
              "      <th>8</th>\n",
              "      <td>luz</td>\n",
              "      <td>147.45</td>\n",
              "      <td>546982454523</td>\n",
              "    </tr>\n",
              "  </tbody>\n",
              "</table>\n",
              "</div>"
            ],
            "text/plain": [
              "   pagamento    valor  codigo_pagamento\n",
              "0  imposto x   458.86      123456789012\n",
              "1  imposto y   467.69      123456789012\n",
              "2  imposto z    25.15      555444332221\n",
              "3       agua   951.31      568754456745\n",
              "4        luz  1548.25      546982454523\n",
              "5   internet   798.99      364821542215\n",
              "6  segurança  1439.54      546982454123\n",
              "7  segurança  1439.54      546982454123\n",
              "8        luz   147.45      546982454523"
            ]
          },
          "metadata": {
            "tags": []
          },
          "execution_count": 2
        }
      ]
    },
    {
      "cell_type": "code",
      "metadata": {
        "id": "sWFnlMsuZrkQ",
        "outputId": "50abae91-52c7-4ce2-da74-2ece6d1b54f1",
        "colab": {
          "base_uri": "https://localhost:8080/"
        }
      },
      "source": [
        "df.duplicated()"
      ],
      "execution_count": 3,
      "outputs": [
        {
          "output_type": "execute_result",
          "data": {
            "text/plain": [
              "0    False\n",
              "1    False\n",
              "2    False\n",
              "3    False\n",
              "4    False\n",
              "5    False\n",
              "6    False\n",
              "7     True\n",
              "8    False\n",
              "dtype: bool"
            ]
          },
          "metadata": {
            "tags": []
          },
          "execution_count": 3
        }
      ]
    },
    {
      "cell_type": "markdown",
      "metadata": {
        "id": "62AduwaGaAwp"
      },
      "source": [
        "Esse método utilizado fornece informação para uma linha que é 100% igual a outra."
      ]
    },
    {
      "cell_type": "code",
      "metadata": {
        "id": "hedXo1vGZ5nT",
        "outputId": "8c6ed768-ac33-4e52-ff06-2e27e8a3e6ea",
        "colab": {
          "base_uri": "https://localhost:8080/"
        }
      },
      "source": [
        "df.duplicated(subset='codigo_pagamento')"
      ],
      "execution_count": 5,
      "outputs": [
        {
          "output_type": "execute_result",
          "data": {
            "text/plain": [
              "0    False\n",
              "1     True\n",
              "2    False\n",
              "3    False\n",
              "4    False\n",
              "5    False\n",
              "6    False\n",
              "7     True\n",
              "8     True\n",
              "dtype: bool"
            ]
          },
          "metadata": {
            "tags": []
          },
          "execution_count": 5
        }
      ]
    },
    {
      "cell_type": "markdown",
      "metadata": {
        "id": "JSErVMwpaWH2"
      },
      "source": [
        "Dessa forma identifica se dentro de uma coluna há o mesmo valor."
      ]
    },
    {
      "cell_type": "code",
      "metadata": {
        "id": "u2Ajqs_AaMlV",
        "outputId": "f96cc3f3-9263-4cb4-c3d0-cfbb7a38708a",
        "colab": {
          "base_uri": "https://localhost:8080/",
          "height": 297
        }
      },
      "source": [
        "df.drop_duplicates(inplace=True)\n",
        "df"
      ],
      "execution_count": 6,
      "outputs": [
        {
          "output_type": "execute_result",
          "data": {
            "text/html": [
              "<div>\n",
              "<style scoped>\n",
              "    .dataframe tbody tr th:only-of-type {\n",
              "        vertical-align: middle;\n",
              "    }\n",
              "\n",
              "    .dataframe tbody tr th {\n",
              "        vertical-align: top;\n",
              "    }\n",
              "\n",
              "    .dataframe thead th {\n",
              "        text-align: right;\n",
              "    }\n",
              "</style>\n",
              "<table border=\"1\" class=\"dataframe\">\n",
              "  <thead>\n",
              "    <tr style=\"text-align: right;\">\n",
              "      <th></th>\n",
              "      <th>pagamento</th>\n",
              "      <th>valor</th>\n",
              "      <th>codigo_pagamento</th>\n",
              "    </tr>\n",
              "  </thead>\n",
              "  <tbody>\n",
              "    <tr>\n",
              "      <th>0</th>\n",
              "      <td>imposto x</td>\n",
              "      <td>458.86</td>\n",
              "      <td>123456789012</td>\n",
              "    </tr>\n",
              "    <tr>\n",
              "      <th>1</th>\n",
              "      <td>imposto y</td>\n",
              "      <td>467.69</td>\n",
              "      <td>123456789012</td>\n",
              "    </tr>\n",
              "    <tr>\n",
              "      <th>2</th>\n",
              "      <td>imposto z</td>\n",
              "      <td>25.15</td>\n",
              "      <td>555444332221</td>\n",
              "    </tr>\n",
              "    <tr>\n",
              "      <th>3</th>\n",
              "      <td>agua</td>\n",
              "      <td>951.31</td>\n",
              "      <td>568754456745</td>\n",
              "    </tr>\n",
              "    <tr>\n",
              "      <th>4</th>\n",
              "      <td>luz</td>\n",
              "      <td>1548.25</td>\n",
              "      <td>546982454523</td>\n",
              "    </tr>\n",
              "    <tr>\n",
              "      <th>5</th>\n",
              "      <td>internet</td>\n",
              "      <td>798.99</td>\n",
              "      <td>364821542215</td>\n",
              "    </tr>\n",
              "    <tr>\n",
              "      <th>6</th>\n",
              "      <td>segurança</td>\n",
              "      <td>1439.54</td>\n",
              "      <td>546982454123</td>\n",
              "    </tr>\n",
              "    <tr>\n",
              "      <th>8</th>\n",
              "      <td>luz</td>\n",
              "      <td>147.45</td>\n",
              "      <td>546982454523</td>\n",
              "    </tr>\n",
              "  </tbody>\n",
              "</table>\n",
              "</div>"
            ],
            "text/plain": [
              "   pagamento    valor  codigo_pagamento\n",
              "0  imposto x   458.86      123456789012\n",
              "1  imposto y   467.69      123456789012\n",
              "2  imposto z    25.15      555444332221\n",
              "3       agua   951.31      568754456745\n",
              "4        luz  1548.25      546982454523\n",
              "5   internet   798.99      364821542215\n",
              "6  segurança  1439.54      546982454123\n",
              "8        luz   147.45      546982454523"
            ]
          },
          "metadata": {
            "tags": []
          },
          "execution_count": 6
        }
      ]
    },
    {
      "cell_type": "markdown",
      "metadata": {
        "id": "0ZI0okMlahX1"
      },
      "source": [
        "Excluiu a linha 7 que estava igual a linha 6."
      ]
    },
    {
      "cell_type": "code",
      "metadata": {
        "id": "wKjuAiwWadUE",
        "outputId": "32a10b2e-de5e-4f3d-9f33-0896f94bb731",
        "colab": {
          "base_uri": "https://localhost:8080/",
          "height": 235
        }
      },
      "source": [
        "df.drop_duplicates(subset = 'codigo_pagamento', inplace=True)\n",
        "df"
      ],
      "execution_count": 8,
      "outputs": [
        {
          "output_type": "execute_result",
          "data": {
            "text/html": [
              "<div>\n",
              "<style scoped>\n",
              "    .dataframe tbody tr th:only-of-type {\n",
              "        vertical-align: middle;\n",
              "    }\n",
              "\n",
              "    .dataframe tbody tr th {\n",
              "        vertical-align: top;\n",
              "    }\n",
              "\n",
              "    .dataframe thead th {\n",
              "        text-align: right;\n",
              "    }\n",
              "</style>\n",
              "<table border=\"1\" class=\"dataframe\">\n",
              "  <thead>\n",
              "    <tr style=\"text-align: right;\">\n",
              "      <th></th>\n",
              "      <th>pagamento</th>\n",
              "      <th>valor</th>\n",
              "      <th>codigo_pagamento</th>\n",
              "    </tr>\n",
              "  </thead>\n",
              "  <tbody>\n",
              "    <tr>\n",
              "      <th>0</th>\n",
              "      <td>imposto x</td>\n",
              "      <td>458.86</td>\n",
              "      <td>123456789012</td>\n",
              "    </tr>\n",
              "    <tr>\n",
              "      <th>2</th>\n",
              "      <td>imposto z</td>\n",
              "      <td>25.15</td>\n",
              "      <td>555444332221</td>\n",
              "    </tr>\n",
              "    <tr>\n",
              "      <th>3</th>\n",
              "      <td>agua</td>\n",
              "      <td>951.31</td>\n",
              "      <td>568754456745</td>\n",
              "    </tr>\n",
              "    <tr>\n",
              "      <th>4</th>\n",
              "      <td>luz</td>\n",
              "      <td>1548.25</td>\n",
              "      <td>546982454523</td>\n",
              "    </tr>\n",
              "    <tr>\n",
              "      <th>5</th>\n",
              "      <td>internet</td>\n",
              "      <td>798.99</td>\n",
              "      <td>364821542215</td>\n",
              "    </tr>\n",
              "    <tr>\n",
              "      <th>6</th>\n",
              "      <td>segurança</td>\n",
              "      <td>1439.54</td>\n",
              "      <td>546982454123</td>\n",
              "    </tr>\n",
              "  </tbody>\n",
              "</table>\n",
              "</div>"
            ],
            "text/plain": [
              "   pagamento    valor  codigo_pagamento\n",
              "0  imposto x   458.86      123456789012\n",
              "2  imposto z    25.15      555444332221\n",
              "3       agua   951.31      568754456745\n",
              "4        luz  1548.25      546982454523\n",
              "5   internet   798.99      364821542215\n",
              "6  segurança  1439.54      546982454123"
            ]
          },
          "metadata": {
            "tags": []
          },
          "execution_count": 8
        }
      ]
    },
    {
      "cell_type": "markdown",
      "metadata": {
        "id": "CvqU9ZQCawcO"
      },
      "source": [
        "Agora excluiu as linhas que possuiam algum valor duplicado e não que ela estava toda duplicada. Fez essa retirada porque havia código de pagamento repetido, isso poderia fazer com que houvesse o mesmo pagamento mais de uma vez e, assim, causando prejuízo.\n",
        "\n",
        "O \"inplace = True\" é importante para que os valores sejam substituidos no data set também."
      ]
    },
    {
      "cell_type": "code",
      "metadata": {
        "id": "E65OJQgkaqhJ",
        "outputId": "66f7171f-866d-4e88-a339-8f73ef4a3276",
        "colab": {
          "base_uri": "https://localhost:8080/"
        }
      },
      "source": [
        "df['codigo_pagamento'].value_counts()"
      ],
      "execution_count": 9,
      "outputs": [
        {
          "output_type": "execute_result",
          "data": {
            "text/plain": [
              "364821542215    1\n",
              "555444332221    1\n",
              "546982454523    1\n",
              "568754456745    1\n",
              "123456789012    1\n",
              "546982454123    1\n",
              "Name: codigo_pagamento, dtype: int64"
            ]
          },
          "metadata": {
            "tags": []
          },
          "execution_count": 9
        }
      ]
    },
    {
      "cell_type": "markdown",
      "metadata": {
        "id": "eCQSY7Q9a-Fu"
      },
      "source": [
        "Percebe-se que agora de fato tem apenas uma valor em cada código de pagamento."
      ]
    },
    {
      "cell_type": "markdown",
      "metadata": {
        "id": "qCRZcjDZblSx"
      },
      "source": [
        "Foi uma análise simples, mas que fez a retirada de 40% dos dados, que estavam duplicados, isso poderia causar um grande prejuízo, principalmente se fosse um conjunto de dados muito grande. Dessa forma, é possível ver a importância da visualização da ocorrência de dados duplicados, a fimd de evitar prejuízos que podem ser resolvidos de forma rápida e prática, com apenas algumas linhas de código."
      ]
    }
  ]
}