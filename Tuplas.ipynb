{
  "nbformat": 4,
  "nbformat_minor": 0,
  "metadata": {
    "colab": {
      "name": "Tuplas.ipynb",
      "provenance": [],
      "authorship_tag": "ABX9TyMep6xwVRYfdgLcBREEpKAi",
      "include_colab_link": true
    },
    "kernelspec": {
      "name": "python3",
      "display_name": "Python 3"
    }
  },
  "cells": [
    {
      "cell_type": "markdown",
      "metadata": {
        "id": "view-in-github",
        "colab_type": "text"
      },
      "source": [
        "<a href=\"https://colab.research.google.com/github/renatagsr/aprendizado_python/blob/master/Tuplas.ipynb\" target=\"_parent\"><img src=\"https://colab.research.google.com/assets/colab-badge.svg\" alt=\"Open In Colab\"/></a>"
      ]
    },
    {
      "cell_type": "markdown",
      "metadata": {
        "id": "TouFsZZ5Nqbb"
      },
      "source": [
        "# Tuplas\n",
        "\n",
        "<center><img width = \"40%\" src = \"https://i.ytimg.com/vi/cjD35mIvUpk/maxresdefault.jpg\"></center>\n",
        "\n",
        "As tuplas são consideradas similares a lista, porém possuem alguns diferenças de grande importância. A primeira diferença de todas é que as tuplas são escritas entre parêntese ( ), a segunda é que as tuplas são imutáveis, ou seja, uma vez escrita não é possível modificar nada dentro das tuplas, nem adicionar e nem retirar. Um ponto importante a ser ressaltado é que as tuplas podem conter objetos mutáveis, como uma lista, por exemplo. As tuplas se comportam como listas estáticas, portanto ocupam menos espaço na memória do que as próprias listas e são executadas de forma mais rápida. Um último ponto a ser levado em consideração é que as tuplas são comumente utilizadas para uma sequência heterogênea, enquanto que as listas para uma sequência homogênea. Uma semelhança entre tuplas e listas é que as tuplas também aceitam qualquer tipo de objeto dentro dela.\n",
        "\n",
        "Os elementos das tuplas são separados por vírgula.\n",
        "\n",
        "Um exemplo de uso das tuplas é quando se deseja salvar latitudes e longitudes de uma cidade, onde não pode arriscar que alguém mude esses dados então é bem útil utilizar as tuplas. \n",
        "\n"
      ]
    },
    {
      "cell_type": "code",
      "metadata": {
        "id": "hip2fPU3NTGk"
      },
      "source": [
        "tupla = ()"
      ],
      "execution_count": 1,
      "outputs": []
    },
    {
      "cell_type": "code",
      "metadata": {
        "id": "_W263ohjD9qD",
        "outputId": "6d9db864-0da9-408d-e0f1-75cdb969bf45",
        "colab": {
          "base_uri": "https://localhost:8080/",
          "height": 34
        }
      },
      "source": [
        "type(tupla)"
      ],
      "execution_count": 3,
      "outputs": [
        {
          "output_type": "execute_result",
          "data": {
            "text/plain": [
              "tuple"
            ]
          },
          "metadata": {
            "tags": []
          },
          "execution_count": 3
        }
      ]
    },
    {
      "cell_type": "markdown",
      "metadata": {
        "id": "WgZuSCH4EM11"
      },
      "source": [
        "Quando coloca apenas um único elemento entre parênteses não é entendido que ele é uma tupla, para entender tem que colocar a vírgula."
      ]
    },
    {
      "cell_type": "code",
      "metadata": {
        "id": "IMeNAwgED_bY",
        "outputId": "a6e4f2ca-e880-461f-9767-1a2bd93ec1aa",
        "colab": {
          "base_uri": "https://localhost:8080/",
          "height": 34
        }
      },
      "source": [
        "teste = (2)\n",
        "type(teste)"
      ],
      "execution_count": 4,
      "outputs": [
        {
          "output_type": "execute_result",
          "data": {
            "text/plain": [
              "int"
            ]
          },
          "metadata": {
            "tags": []
          },
          "execution_count": 4
        }
      ]
    },
    {
      "cell_type": "code",
      "metadata": {
        "id": "DnApZbmmEdZK",
        "outputId": "c6c24dec-7971-4b7b-94d9-d3e8b0f5d595",
        "colab": {
          "base_uri": "https://localhost:8080/",
          "height": 34
        }
      },
      "source": [
        "teste_2 = (2,)\n",
        "type(teste_2)"
      ],
      "execution_count": 6,
      "outputs": [
        {
          "output_type": "execute_result",
          "data": {
            "text/plain": [
              "tuple"
            ]
          },
          "metadata": {
            "tags": []
          },
          "execution_count": 6
        }
      ]
    },
    {
      "cell_type": "markdown",
      "metadata": {
        "id": "xCK-pzZjE5jP"
      },
      "source": [
        "Um outro exemplo onde as tuplas são úteis é quando tem uma loja e tem as mesmas dimensões para a caixa, então pode associar os valores das dimensões a uma variável através de uma tupla."
      ]
    },
    {
      "cell_type": "code",
      "metadata": {
        "id": "lEb1_cQrEhF6",
        "outputId": "302c88ea-3c0a-4eec-f1fc-268485c95dd1",
        "colab": {
          "base_uri": "https://localhost:8080/",
          "height": 34
        }
      },
      "source": [
        "caixa = (15, 27, 12)\n",
        "print(caixa)"
      ],
      "execution_count": 7,
      "outputs": [
        {
          "output_type": "stream",
          "text": [
            "(15, 27, 12)\n"
          ],
          "name": "stdout"
        }
      ]
    },
    {
      "cell_type": "code",
      "metadata": {
        "id": "A7yQcd0aEs0H"
      },
      "source": [
        "#latitude e longitude de Brasilia\n",
        "brasilia = (-15.77, -47.92)\n",
        "#separando os valores da tuplas em variáveis\n",
        "lat, lon = brasilia"
      ],
      "execution_count": 8,
      "outputs": []
    },
    {
      "cell_type": "code",
      "metadata": {
        "id": "eHgYw7A8FOCC",
        "outputId": "304b0f95-ac55-4ab2-d586-836a3c40d952",
        "colab": {
          "base_uri": "https://localhost:8080/",
          "height": 102
        }
      },
      "source": [
        "print(f'Latitude: {lat}')\n",
        "print(f'Longitude: {lon}')\n",
        "print(f'\\n\\n{brasilia}')"
      ],
      "execution_count": 9,
      "outputs": [
        {
          "output_type": "stream",
          "text": [
            "Latitude: -15.77\n",
            "Longitude: -47.92\n",
            "\n",
            "\n",
            "(-15.77, -47.92)\n"
          ],
          "name": "stdout"
        }
      ]
    },
    {
      "cell_type": "code",
      "metadata": {
        "id": "uGgqouovG2JI",
        "outputId": "c9ceeaab-f0f0-4e99-f753-723ae843d419",
        "colab": {
          "base_uri": "https://localhost:8080/",
          "height": 34
        }
      },
      "source": [
        "#tuplas com strings\n",
        "estados = ('Rio de Janeiro',  'São Paulo', 'Minas Gerais')\n",
        "estados"
      ],
      "execution_count": 15,
      "outputs": [
        {
          "output_type": "execute_result",
          "data": {
            "text/plain": [
              "('Rio de Janeiro', 'São Paulo', 'Minas Gerais')"
            ]
          },
          "metadata": {
            "tags": []
          },
          "execution_count": 15
        }
      ]
    },
    {
      "cell_type": "code",
      "metadata": {
        "id": "MXw0HnnbFZsm",
        "outputId": "61222133-dc24-41f4-a47c-ec1736e55231",
        "colab": {
          "base_uri": "https://localhost:8080/",
          "height": 68
        }
      },
      "source": [
        "#Dicionário contendo tuplas\n",
        "coordenadas = {\n",
        "    'Brasilia': (15.76, 47.92),\n",
        "    'São Paulo': (16.41, 46.75),\n",
        "    'Araraquara': (18.21, 47.21)\n",
        "}\n",
        "coordenadas"
      ],
      "execution_count": 12,
      "outputs": [
        {
          "output_type": "execute_result",
          "data": {
            "text/plain": [
              "{'Araraquara': (18.21, 47.21),\n",
              " 'Brasilia': (15.76, 47.92),\n",
              " 'São Paulo': (16.41, 46.75)}"
            ]
          },
          "metadata": {
            "tags": []
          },
          "execution_count": 12
        }
      ]
    },
    {
      "cell_type": "code",
      "metadata": {
        "id": "CC7lZfywGbB1",
        "outputId": "02ca994a-a7fd-4bd3-fe3b-5a0caa47417d",
        "colab": {
          "base_uri": "https://localhost:8080/",
          "height": 34
        }
      },
      "source": [
        "type(coordenadas)"
      ],
      "execution_count": 13,
      "outputs": [
        {
          "output_type": "execute_result",
          "data": {
            "text/plain": [
              "dict"
            ]
          },
          "metadata": {
            "tags": []
          },
          "execution_count": 13
        }
      ]
    },
    {
      "cell_type": "code",
      "metadata": {
        "id": "xeTpubkRG0E0",
        "outputId": "47158f6b-f82f-49f1-af52-d534f1dfd640",
        "colab": {
          "base_uri": "https://localhost:8080/",
          "height": 34
        }
      },
      "source": [
        "type(coordenadas['Brasilia'])"
      ],
      "execution_count": 14,
      "outputs": [
        {
          "output_type": "execute_result",
          "data": {
            "text/plain": [
              "tuple"
            ]
          },
          "metadata": {
            "tags": []
          },
          "execution_count": 14
        }
      ]
    }
  ]
}